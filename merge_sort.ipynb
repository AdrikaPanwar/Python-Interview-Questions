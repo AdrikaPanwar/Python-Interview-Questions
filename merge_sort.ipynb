{
 "cells": [
  {
   "cell_type": "code",
   "execution_count": 1,
   "metadata": {},
   "outputs": [
    {
     "name": "stdout",
     "output_type": "stream",
     "text": [
      "Inversions: [(2, 1), (4, 1), (4, 3)]\n"
     ]
    }
   ],
   "source": [
    "# Question 1: Explain what an inversion in an array is with an example.\n",
    "arr = [2, 4, 1, 3, 5]\n",
    "# An inversion is a pair (i, j) such that i < j and arr[i] > arr[j].\n",
    "inversions = [(arr[i], arr[j]) for i in range(len(arr)) for j in range(i + 1, len(arr)) if arr[i] > arr[j]]\n",
    "print(\"Inversions:\", inversions)"
   ]
  },
  {
   "cell_type": "markdown",
   "metadata": {},
   "source": [
    "#### Question 2: Why is Merge Sort suitable for counting inversions in an array?\n",
    "Merge Sort is efficient because it divides the array into smaller subarrays, sorts them recursively, and counts inversions during the merge step, achieving a time complexity of O(nlog⁡n)O(nlogn)."
   ]
  },
  {
   "cell_type": "markdown",
   "metadata": {},
   "source": [
    "#### Question 3: How does the merge_and_count function contribute to the inversion count?\n",
    " It counts inversions during the merge step when an element from the right subarray is smaller\n",
    " than an element from the left subarray. Here's the specific part of the code:\n",
    "if arr[i] > arr[j]:\n",
    "    inv_count += (mid - i + 1)"
   ]
  },
  {
   "cell_type": "code",
   "execution_count": 3,
   "metadata": {},
   "outputs": [
    {
     "name": "stdout",
     "output_type": "stream",
     "text": [
      "[3, 9, 10, 27, 38, 43, 82]\n"
     ]
    }
   ],
   "source": [
    "# Question 4: Implement the Merge Sort algorithm without counting inversions.\n",
    "def merge_sort(arr):\n",
    "    if len(arr) > 1:\n",
    "        mid = len(arr) // 2\n",
    "        left_half = arr[:mid]\n",
    "        right_half = arr[mid:]\n",
    "        \n",
    "        merge_sort(left_half)\n",
    "        merge_sort(right_half)\n",
    "        \n",
    "        i = j = k = 0\n",
    "        while i < len(left_half) and j < len(right_half):\n",
    "            if left_half[i] < right_half[j]:\n",
    "                arr[k] = left_half[i]\n",
    "                i += 1\n",
    "            else:\n",
    "                arr[k] = right_half[j]\n",
    "                j += 1\n",
    "            k += 1\n",
    "        \n",
    "        while i < len(left_half):\n",
    "            arr[k] = left_half[i]\n",
    "            i += 1\n",
    "            k += 1\n",
    "        \n",
    "        while j < len(right_half):\n",
    "            arr[k] = right_half[j]\n",
    "            j += 1\n",
    "            k += 1\n",
    "    return arr\n",
    "\n",
    "# Example\n",
    "print(merge_sort([38, 27, 43, 3, 9, 82, 10]))\n"
   ]
  },
  {
   "cell_type": "code",
   "execution_count": null,
   "metadata": {},
   "outputs": [
    {
     "name": "stdout",
     "output_type": "stream",
     "text": [
      "3\n"
     ]
    }
   ],
   "source": [
    "# Question 5: Write a function to count inversions where the difference between indices is ≤ 3.\n",
    "def count_limited_inversions(arr):\n",
    "    count = 0\n",
    "    for i in range(len(arr)):\n",
    "        for j in range(i + 1, min(i + 4, len(arr))):  # Limit to 3 indices ahead\n",
    "            if arr[i] > arr[j]:\n",
    "                count += 1\n",
    "    return count\n",
    "\n",
    "# Example\n",
    "print(count_limited_inversions([2, 4, 1, 3, 5])) "
   ]
  },
  {
   "cell_type": "code",
   "execution_count": null,
   "metadata": {},
   "outputs": [],
   "source": [
    "# Question 6: Modify the Merge Sort algorithm to work on a linked list.\n",
    "class Node:\n",
    "    def __init__(self, data):\n",
    "        self.data = data\n",
    "        self.next = None\n",
    "\n",
    "# Helper function to print the linked list\n",
    "def print_linked_list(head):\n",
    "    current = head\n",
    "    while current:\n",
    "        print(current.data, end=\" -> \")\n",
    "        current = current.next\n",
    "    print(\"None\")\n",
    "\n",
    "# Function to find the middle of the linked list\n",
    "def get_middle(head):\n",
    "    if not head:\n",
    "        return head\n",
    "    slow = head\n",
    "    fast = head\n",
    "    while fast and fast.next:\n",
    "        slow = slow.next\n",
    "        fast = fast.next.next\n",
    "    return slow\n",
    "\n",
    "# Function to merge two sorted linked lists\n",
    "def merge_sorted_lists(left, right):\n",
    "    if not left:\n",
    "        return right\n",
    "    if not right:\n",
    "        return left\n",
    "    # Merge the two lists\n",
    "    if left.data <= right.data:\n",
    "        left.next = merge_sorted_lists(left.next, right)\n",
    "        return left\n",
    "    else:\n",
    "        right.next = merge_sorted_lists(left, right.next)\n",
    "        return right\n",
    "\n",
    "# Merge Sort function for linked list\n",
    "def merge_sort_linked_list(head):\n",
    "    if not head or not head.next:\n",
    "        return head\n",
    "    \n",
    "    # Find the middle point and split the linked list\n",
    "    middle = get_middle(head)\n",
    "    next_to_middle = middle.next\n",
    "    middle.next = None\n",
    "    \n",
    "    # Recursively sort the left and right halves\n",
    "    left = merge_sort_linked_list(head)\n",
    "    right = merge_sort_linked_list(next_to_middle)\n",
    "    \n",
    "    # Merge the sorted halves\n",
    "    sorted_list = merge_sorted_lists(left, right)\n",
    "    return sorted_list\n",
    "\n",
    "# Example usage:\n",
    "# Create a linked list: 3 -> 1 -> 4 -> 5 -> 2\n",
    "head = Node(3)\n",
    "head.next = Node(1)\n",
    "head.next.next = Node(4)\n",
    "head.next.next.next = Node(5)\n",
    "head.next.next.next.next = Node(2)\n",
    "\n",
    "print(\"Original Linked List:\")\n",
    "print_linked_list(head)\n",
    "\n",
    "# Sort the linked list using merge sort\n",
    "sorted_head = merge_sort_linked_list(head)\n",
    "\n",
    "print(\"Sorted Linked List:\")\n",
    "print_linked_list(sorted_head)"
   ]
  },
  {
   "cell_type": "markdown",
   "metadata": {},
   "source": [
    "#### Question 7: Explain the time complexity of counting inversions using Merge Sort.\n",
    "The time complexity is O(nlog⁡n)O(nlogn). This is because:\n",
    "\n",
    "    Dividing the array takes log⁡nlogn levels.\n",
    "    Merging at each level takes O(n)O(n)."
   ]
  },
  {
   "cell_type": "code",
   "execution_count": 8,
   "metadata": {},
   "outputs": [
    {
     "name": "stdout",
     "output_type": "stream",
     "text": [
      "10\n"
     ]
    }
   ],
   "source": [
    "# Question 8: Derive the number of inversions for a reverse-sorted array of size n.\n",
    "# For a reverse-sorted array of size n, there are n(n−1)/2n(n−1)/2 inversions \n",
    "# because every pair of elements is an inversion.\n",
    "def reverse_sorted_inversions(n):\n",
    "    return n * (n - 1) // 2\n",
    "\n",
    "print(reverse_sorted_inversions(5)) "
   ]
  },
  {
   "cell_type": "markdown",
   "metadata": {},
   "source": [
    "#### Question 9: Calculate the number of inversions manually for [5, 4, 3, 2, 1].\n",
    "For [5, 4, 3, 2, 1]:\n",
    "Inversions: (5, 4), (5, 3), (5, 2), (5, 1), (4, 3), (4, 2), (4, 1), (3, 2), (3, 1), (2, 1).\n",
    "Total = 10."
   ]
  },
  {
   "cell_type": "code",
   "execution_count": 9,
   "metadata": {},
   "outputs": [
    {
     "name": "stdout",
     "output_type": "stream",
     "text": [
      "10\n"
     ]
    }
   ],
   "source": [
    "# Question 10: Implement a brute-force method to count inversions.\n",
    "def brute_force_inversions(arr):\n",
    "    count = 0\n",
    "    for i in range(len(arr)):\n",
    "        for j in range(i + 1, len(arr)):\n",
    "            if arr[i] > arr[j]:\n",
    "                count += 1\n",
    "    return count\n",
    "\n",
    "# Example\n",
    "print(brute_force_inversions([5, 4, 3, 2, 1])) "
   ]
  }
 ],
 "metadata": {
  "kernelspec": {
   "display_name": ".venv",
   "language": "python",
   "name": "python3"
  },
  "language_info": {
   "codemirror_mode": {
    "name": "ipython",
    "version": 3
   },
   "file_extension": ".py",
   "mimetype": "text/x-python",
   "name": "python",
   "nbconvert_exporter": "python",
   "pygments_lexer": "ipython3",
   "version": "3.12.3"
  }
 },
 "nbformat": 4,
 "nbformat_minor": 2
}
