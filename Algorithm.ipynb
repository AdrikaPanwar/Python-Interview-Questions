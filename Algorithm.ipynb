{
 "cells": [
  {
   "cell_type": "markdown",
   "metadata": {},
   "source": [
    "##### **Note** = First point to be remember that in DSA there are two type of Data Structure:-\n",
    "1. Structured = which starts with def and count return and driver code in the end \n",
    "2. Non-Structured = where values are present and u write whole code and then write print at the end to run this algorithm."
   ]
  },
  {
   "cell_type": "markdown",
   "metadata": {},
   "source": [
    "#### Algo 1 = Binary Search"
   ]
  },
  {
   "cell_type": "code",
   "execution_count": 1,
   "metadata": {},
   "outputs": [
    {
     "name": "stdout",
     "output_type": "stream",
     "text": [
      "2\n"
     ]
    }
   ],
   "source": [
    "#### Structured \n",
    "def binary_search(arr, target):\n",
    "    left, right = 0, len(arr) - 1 \n",
    "    while left <= right:\n",
    "        mid = (left + right) // 2 \n",
    "        if arr[mid] == target:\n",
    "            return mid # found target\n",
    "        elif arr[mid] < target:\n",
    "            left = mid + 1 \n",
    "        else:\n",
    "            right = mid - 1 \n",
    "    return -1 # target not found\n",
    "\n",
    "\n",
    "#### Non-Structured\n",
    "arr = [1,3,5,7,9]\n",
    "target = 5\n",
    "left, right = 0, len(arr) - 1 \n",
    "while left <= right:\n",
    "    mid = (left + right) // 2 \n",
    "    if arr[mid] == target:\n",
    "        print(mid)\n",
    "        break\n",
    "    elif arr[mid] < target:\n",
    "        left = mid + 1 \n",
    "    else:\n",
    "        right = mid - 1 \n",
    "        "
   ]
  },
  {
   "cell_type": "markdown",
   "metadata": {},
   "source": [
    "#### Algo 2 = Bubble Sort"
   ]
  },
  {
   "cell_type": "code",
   "execution_count": 2,
   "metadata": {},
   "outputs": [
    {
     "name": "stdout",
     "output_type": "stream",
     "text": [
      "[1, 2, 5, 5, 6, 9]\n"
     ]
    }
   ],
   "source": [
    "#### Structured\n",
    "def bubble_sort(arr):\n",
    "    n = len(arr)\n",
    "    for i in range(n):\n",
    "        for j in range(n - i - 1 ):\n",
    "            if arr[j] > arr[j + 1]:\n",
    "                arr[j], arr[j+1] = arr[j+1], arr[j] \n",
    "    return arr\n",
    "\n",
    "#### Non-Structured\n",
    "arr = [5,2,9,1,5,6]\n",
    "n = len(arr)\n",
    "for i in range(n):\n",
    "    for j in range(n-i-1):\n",
    "        if arr[j]> arr[j+1]:\n",
    "            arr[j], arr[j+1] = arr[j+1], arr[j]\n",
    "print(arr)\n"
   ]
  },
  {
   "cell_type": "markdown",
   "metadata": {},
   "source": [
    "#### Algo 3 = Depth-First Search(DFS) - Graph traversal"
   ]
  },
  {
   "cell_type": "code",
   "execution_count": 4,
   "metadata": {},
   "outputs": [
    {
     "name": "stdout",
     "output_type": "stream",
     "text": [
      "1 3 6 2 5 4 "
     ]
    }
   ],
   "source": [
    "#### Structured\n",
    "def dfs(graph, node, visited = None):\n",
    "    if visited is None:\n",
    "        visited = set()\n",
    "    visited.add(node)\n",
    "    print(node, end=' ')\n",
    "    for neighbor in graph.get(node, []): # if node not found then it return [] empty list\n",
    "        if neighbor not in visited:\n",
    "            dfs(graph, neighbor, visited)\n",
    "    \n",
    "#### Non-Structured\n",
    "graph = {1:[2,3], 2: [4,5], 3: [6], 4: [], 5: [], 6:[]}\n",
    "visited = set()\n",
    "stack = [1]\n",
    "while stack:\n",
    "    node = stack.pop()\n",
    "    if node not in visited:\n",
    "        print(node, end=' ')\n",
    "        visited.add(node)\n",
    "        stack.extend(graph.get(node, []))\n",
    "        "
   ]
  },
  {
   "cell_type": "markdown",
   "metadata": {},
   "source": [
    "#### Algo 4 = Breadth-First Search(BFS)"
   ]
  },
  {
   "cell_type": "code",
   "execution_count": 5,
   "metadata": {},
   "outputs": [
    {
     "name": "stdout",
     "output_type": "stream",
     "text": [
      "1 2 3 4 5 6 "
     ]
    }
   ],
   "source": [
    "#### Structured\n",
    "def bfs(graph, start):\n",
    "    from collections import deque\n",
    "    queue = deque([start])\n",
    "    visited = set([start])\n",
    "    while queue:\n",
    "        node = queue.popleft()\n",
    "        print(node, end=' ')\n",
    "        for neighbor in graph.get(node, []):\n",
    "            if neighbor not in visited:\n",
    "                visited.add(neighbor)\n",
    "                queue.append(neighbor)\n",
    "                \n",
    "                \n",
    "#### Non-Structured\n",
    "graph = {1: [2,3], 2:[4,5], 3:[6], 4: [], 5: [], 6: []}\n",
    "queue = [1]\n",
    "visited = set([1])\n",
    "while queue:\n",
    "    node = queue.pop(0)\n",
    "    print(node, end=' ')\n",
    "    for neighbor in graph.get(node, []):\n",
    "        if neighbor not in visited:\n",
    "            visited.add(neighbor)\n",
    "            queue.append(neighbor)"
   ]
  },
  {
   "cell_type": "markdown",
   "metadata": {},
   "source": [
    "#### Algo 5 = Sliding Window - Maximum sum subarray"
   ]
  },
  {
   "cell_type": "code",
   "execution_count": null,
   "metadata": {},
   "outputs": [],
   "source": [
    "#### Structured\n",
    "def max_sum_subarray(arr, k):\n",
    "    max_sum = float('inf')\n",
    "    current_sum = sum(arr[:k])\n",
    "    max_sum = max(max_sum, current_sum)\n",
    "    for i in range(k, len(arr)):\n",
    "        current_sum += arr[i] - arr[i-k]\n",
    "        max_sum = max(max_sum, current_sum)\n",
    "    return max_sum\n",
    "\n",
    "#### Non-Structured\n",
    "arr = [1,2,3,4,5,6]\n",
    "k = 3 \n",
    "max_sum = float('-inf')\n",
    "current_sum = sum(arr[:k])\n",
    "for i in range(k, len(arr)):\n",
    "    current_sum += arr[i] - arr[i-k]\n",
    "    max_sum = max(max_sum, current_sum)\n",
    "print(max_sum)"
   ]
  },
  {
   "cell_type": "markdown",
   "metadata": {},
   "source": [
    "#### Algo 6 = Insertion Sort"
   ]
  },
  {
   "cell_type": "code",
   "execution_count": null,
   "metadata": {},
   "outputs": [],
   "source": [
    "def insertion_sort(arr):\n",
    "    for i in range(1, len(arr)):\n",
    "        key = arr[i]\n",
    "        j = i - 1\n",
    "        while j >= 0 and arr[j] > key:\n",
    "            arr[j+1] = arr[j]\n",
    "            j -= 1 # decerement by 1 moving to the next element to the left \n",
    "        arr[j+1] = key\n",
    "    return arr\n"
   ]
  },
  {
   "cell_type": "markdown",
   "metadata": {},
   "source": [
    "#### Algo 7 = Segment Tree"
   ]
  },
  {
   "cell_type": "code",
   "execution_count": 1,
   "metadata": {},
   "outputs": [],
   "source": [
    "#### Structured \n",
    "class segmentTree:\n",
    "    def __init__(self, arr):\n",
    "        self.n = len(arr)\n",
    "        self.tree = [0] * (2 * self.n)\n",
    "        for i in range(self.n):\n",
    "            self.tree[self.n + i] = arr[i]\n",
    "        for i in range(self.n - 1 , 0, -1 ):\n",
    "            self.tree[i] = self.tree[2*i] + self.tree[2*i+1]\n",
    "            \n",
    "    def query(self, l, r):\n",
    "        res = 0 \n",
    "        l += self.n\n",
    "        r += self.n\n",
    "        while l < r:\n",
    "            if l % 2:\n",
    "                res += self.tree[l]\n",
    "                l+=1\n",
    "            if r % 2:\n",
    "                r -= 1 \n",
    "                res += self.tree[r]\n",
    "            l //= 2 \n",
    "            r //= 2\n",
    "        return res\n",
    "    "
   ]
  }
 ],
 "metadata": {
  "kernelspec": {
   "display_name": ".venv",
   "language": "python",
   "name": "python3"
  },
  "language_info": {
   "codemirror_mode": {
    "name": "ipython",
    "version": 3
   },
   "file_extension": ".py",
   "mimetype": "text/x-python",
   "name": "python",
   "nbconvert_exporter": "python",
   "pygments_lexer": "ipython3",
   "version": "3.12.3"
  }
 },
 "nbformat": 4,
 "nbformat_minor": 2
}
