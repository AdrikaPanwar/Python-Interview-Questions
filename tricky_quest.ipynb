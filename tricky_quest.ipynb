{
 "cells": [
  {
   "cell_type": "markdown",
   "metadata": {},
   "source": [
    "#### Problem 1: Calculate the Sum of Differences in an Array\n",
    "\n",
    "Given an array of integers, calculate the sum of absolute differences between every consecutive pair of elements.\n",
    "```\n",
    "Input: nums = [3, 8, 5, 10]  \n",
    "Output: 10  \n",
    "Explanation: \n",
    "|8 - 3| = 5  \n",
    "|5 - 8| = 3  \n",
    "|10 - 5| = 5  \n",
    "Sum = 5 + 3 + 5 = 10\n",
    "```"
   ]
  },
  {
   "cell_type": "code",
   "execution_count": 6,
   "metadata": {},
   "outputs": [
    {
     "name": "stdout",
     "output_type": "stream",
     "text": [
      "13\n"
     ]
    }
   ],
   "source": [
    "def sumofdiff(nums):\n",
    "    total = 0\n",
    "    for i in range(1, len(nums)):\n",
    "        total += abs(nums[i]-nums[i -1])\n",
    "    return total\n",
    "\n",
    "# driver code\n",
    "nums = [3,8,5,10]\n",
    "print(sumofdiff(nums))"
   ]
  },
  {
   "cell_type": "markdown",
   "metadata": {},
   "source": [
    "#### Problem 2: Find the Minimum Difference Between Any Two Elements\n",
    "\n",
    "Given an array of integers, find the smallest difference between any two elements.\n",
    "```\n",
    "Input: nums = [10, 3, 20, 50, 4]  \n",
    "Output: 1  \n",
    "Explanation: \n",
    "Minimum difference is |4 - 3| = 1.\n",
    "\n",
    "```"
   ]
  },
  {
   "cell_type": "code",
   "execution_count": 7,
   "metadata": {},
   "outputs": [
    {
     "name": "stdout",
     "output_type": "stream",
     "text": [
      "Minimum Difference: 1\n"
     ]
    }
   ],
   "source": [
    "def mindiff(nums):\n",
    "    nums.sort()\n",
    "    minn = float('inf')\n",
    "    \n",
    "    for i in range(1, len(nums)):\n",
    "        mi = abs(nums[i] - nums[i - 1])\n",
    "        minn = min(minn, mi)\n",
    "    return minn\n",
    "nums = [10, 3, 20, 50, 4]\n",
    "print(\"Minimum Difference:\", mindiff(nums))\n",
    "        "
   ]
  },
  {
   "cell_type": "markdown",
   "metadata": {},
   "source": [
    "#### Problem 3: Calculate the Number of Steps to Make All Elements Equal\n",
    "\n",
    "Given an array of integers, calculate the minimum number of steps required to make all elements equal. In one step, you can increment or decrement an element by 1.\n",
    "```\n",
    "Input: nums = [1, 2, 3]  \n",
    "Output: 2  \n",
    "Explanation: \n",
    "Make all elements equal to 2:\n",
    "|2 - 1| = 1  \n",
    "|2 - 2| = 0  \n",
    "|2 - 3| = 1  \n",
    "Total steps = 1 + 0 + 1 = 2.\n",
    "\n",
    "```"
   ]
  },
  {
   "cell_type": "code",
   "execution_count": 3,
   "metadata": {},
   "outputs": [
    {
     "name": "stdout",
     "output_type": "stream",
     "text": [
      "2\n"
     ]
    }
   ],
   "source": [
    "def minsteps(nums):\n",
    "    nums.sort()\n",
    "    steps = 0\n",
    "    median = nums[len(nums) // 2 ]\n",
    "    for num in nums:\n",
    "        steps += abs(num - median)\n",
    "    return steps\n",
    "\n",
    "# driver code\n",
    "nums = [1,2,3]\n",
    "print(minsteps(nums))"
   ]
  },
  {
   "cell_type": "markdown",
   "metadata": {},
   "source": [
    "#### Problem 4: Maximum Distance Between Two Elements in an Array\n",
    "\n",
    "Find the maximum difference between any two elements in an array.\n",
    "```\n",
    "Input: nums = [10, 3, 50, 4]  \n",
    "Output: 47  \n",
    "Explanation: \n",
    "Maximum difference is |50 - 3| = 47.\n",
    "\n",
    "```"
   ]
  },
  {
   "cell_type": "code",
   "execution_count": 4,
   "metadata": {},
   "outputs": [
    {
     "name": "stdout",
     "output_type": "stream",
     "text": [
      "47\n"
     ]
    }
   ],
   "source": [
    "def maxdiff(nums):\n",
    "    return max(nums) - min(nums)\n",
    "\n",
    "nums = [10,3,50,4]\n",
    "print(maxdiff(nums))"
   ]
  },
  {
   "cell_type": "markdown",
   "metadata": {},
   "source": [
    "#### Problem 5: Find Target by Adding or Subtracting Elements\n",
    "\n",
    "You are given an array and a target number. Check if you can form the target by adding or subtracting elements of the array.\n",
    "```\n",
    "Input: nums = [1, 2, 3], target = 2  \n",
    "Output: True  \n",
    "Explanation: \n",
    "1 + 2 - 3 = 2 is possible.\n",
    "\n",
    "```"
   ]
  },
  {
   "cell_type": "code",
   "execution_count": 1,
   "metadata": {},
   "outputs": [
    {
     "name": "stdout",
     "output_type": "stream",
     "text": [
      "True\n"
     ]
    }
   ],
   "source": [
    "def canformtarget(nums, target):\n",
    "    possible_sums = {0}\n",
    "    for num in nums:\n",
    "        next_sums = set()\n",
    "        for sum_sor_far in possible_sums:\n",
    "            next_sums.add(sum_sor_far + num)\n",
    "            next_sums.add(sum_sor_far - num)\n",
    "        possible_sums = next_sums\n",
    "    return target in possible_sums\n",
    "# driver code\n",
    "nums = [1,2,3]\n",
    "target = 2 \n",
    "print(canformtarget(nums, target))"
   ]
  },
  {
   "cell_type": "markdown",
   "metadata": {},
   "source": [
    "#### Problem 6: Subarray with Maximum Sum of Absolute Differences\n",
    "\n",
    "Given an array of integers, find the maximum sum of absolute differences between adjacent elements for any subarray.\n",
    "```\n",
    "Input: nums = [1, 2, 4, 6]  \n",
    "Output: 7  \n",
    "Explanation:\n",
    "Choose the subarray [2, 4, 6]:  \n",
    "|4 - 2| + |6 - 4| = 2 + 3 = 5.\n",
    "\n",
    "```"
   ]
  },
  {
   "cell_type": "code",
   "execution_count": 3,
   "metadata": {},
   "outputs": [
    {
     "name": "stdout",
     "output_type": "stream",
     "text": [
      "5\n"
     ]
    }
   ],
   "source": [
    "def maxsum(nums):\n",
    "    max_sum = 0\n",
    "    for i in range(len(nums)):\n",
    "        for j in range( i + 1 , len(nums)+1):\n",
    "            subarray = nums[i:j]\n",
    "            cur = sum(abs(subarray[k] - subarray[k-1]) for k in range(1, len(subarray)))\n",
    "            max_sum = max(max_sum, cur)\n",
    "    return max_sum\n",
    "# driver code\n",
    "nums = [1,2,4,6]\n",
    "print(maxsum(nums))\n",
    "            "
   ]
  },
  {
   "cell_type": "markdown",
   "metadata": {},
   "source": [
    "#### Problem 7: Find the Missing Number Using XOR"
   ]
  },
  {
   "cell_type": "code",
   "execution_count": 1,
   "metadata": {},
   "outputs": [
    {
     "name": "stdout",
     "output_type": "stream",
     "text": [
      "3\n"
     ]
    }
   ],
   "source": [
    "def findmiss(nums):\n",
    "    n = len(nums) + 1 \n",
    "    expected = 0 \n",
    "    actual = 0 \n",
    "    for i in range(1, n+1):\n",
    "        expected^=i\n",
    "    for num in nums: \n",
    "        actual^=num\n",
    "    return expected^actual\n",
    "# driver code\n",
    "nums = [1,2,4,5]\n",
    "print(findmiss(nums))\n",
    "        "
   ]
  },
  {
   "cell_type": "markdown",
   "metadata": {},
   "source": [
    "#### Problem 8: Maximum XOR of Two Numbers in an Array\n",
    "Given a list of integers, you need to find the maximum value of x ^ y, where x and y are two different elements in the array. "
   ]
  },
  {
   "cell_type": "code",
   "execution_count": 2,
   "metadata": {},
   "outputs": [
    {
     "name": "stdout",
     "output_type": "stream",
     "text": [
      "28\n"
     ]
    }
   ],
   "source": [
    "class TrieNode:\n",
    "    def __init__(self):\n",
    "        self.children = {}\n",
    "        self.val = 0\n",
    "\n",
    "class Trie:\n",
    "    def __init__(self):\n",
    "        self.root = TrieNode()\n",
    "        \n",
    "    def insert(self, num):\n",
    "        node = self.root\n",
    "        for i in range(31, -1, -1):\n",
    "            bit = (num>>i)&1\n",
    "            if bit not in node.children:\n",
    "                node.children[bit] = TrieNode()\n",
    "            node = node.children[bit]\n",
    "            \n",
    "    def findmax(self, num):\n",
    "        node = self.root\n",
    "        max_x = 0\n",
    "        for i in range(31, -1, -1):\n",
    "            bit = (num>>i)&1\n",
    "            opposite = 1-bit\n",
    "            if opposite in node.children:\n",
    "                max_x |= (1<<i)\n",
    "                node = node.children[opposite]\n",
    "            elif bit in node.children:\n",
    "                node = node.children[bit]\n",
    "        return max_x\n",
    "\n",
    "def findmaxim(nums):\n",
    "    trie = Trie()\n",
    "    max_x = 0\n",
    "    for num in nums:\n",
    "        trie.insert(num)\n",
    "    for num in nums:\n",
    "        max_x = max(max_x, trie.findmax(num))\n",
    "    return max_x\n",
    "\n",
    "#driver code\n",
    "nums = [3, 10, 5, 25, 2, 8]\n",
    "print(findmaxim(nums))\n",
    "            \n",
    "    "
   ]
  },
  {
   "cell_type": "markdown",
   "metadata": {},
   "source": [
    "#### Problem 9: Closest Pair of Points in 2D Plane (Optimized with Divide and Conquer)\n",
    "Given a list of points in a 2D plane, return the distance between the closest pair of points. A brute force solution can be too slow, so we aim for a more optimized solution.\n",
    "\n",
    "**Solution Approach**: We will use Divide and Conquer to divide the points into halves and recursively find the closest pair."
   ]
  },
  {
   "cell_type": "code",
   "execution_count": 3,
   "metadata": {},
   "outputs": [
    {
     "name": "stdout",
     "output_type": "stream",
     "text": [
      "1.4142135623730951\n"
     ]
    }
   ],
   "source": [
    "import math\n",
    "# calculate distance b/w 2 points\n",
    "def dist(p1,p2):\n",
    "    return math.sqrt((p1[0]-p2[0])**2 + (p1[1]-p2[1])**2)\n",
    "# merge sort it(basically sort)\n",
    "def cp(p):\n",
    "    p.sort(key = lambda x: x[0]) # sorted on x coordinates \n",
    "    return cpr(p)    # cpr = closest pair recursion , cp = closed pair and p = points \n",
    "# divide it and conquer it\n",
    "def cpr(p, delta=float('inf')):\n",
    "    if len(p) <= 3:\n",
    "        return bf(p) # bf = brute force\n",
    "    mid = len(p) // 2\n",
    "    lp = p[:mid] # lp = left points\n",
    "    rp = p[mid:] # rp = right points\n",
    "    # Recursively find closest pair in the left and right half\n",
    "    ld = cpr(lp)  # ld =  left distance\n",
    "    rd = cpr(rp)  # rd = right distance\n",
    "    # The closest pair distance within the two halves\n",
    "    md = min(ld, rd) # md =  minimum distance\n",
    "    # Combine the results for the strip part (points near the dividing line = space)\n",
    "    return min(md, csp(p, md)) \n",
    "# brute force for finding small sets\n",
    "def bf(p):\n",
    "    md = float('inf')\n",
    "    for i in range(len(p)):\n",
    "        for j in range(i + 1, len(p)):\n",
    "            md = min(md, dist(p[i], p[j]))\n",
    "    return md\n",
    "# Check points in the strip\n",
    "def csp(p, delta):  # csp =  closest split points and delta is the min distance between l and r halves in point set\n",
    "    mid = len(p) // 2\n",
    "    mid_x = p[mid][0]\n",
    "    s = [po for po in p if abs(po[0] - mid_x) < delta] # s = strip\n",
    "    s.sort(key=lambda po: po[1])\n",
    "\n",
    "    md = delta\n",
    "    for i in range(len(s)):\n",
    "        for j in range(i + 1, len(s)):\n",
    "            if s[j][1] - s[i][1] >= md:\n",
    "                break\n",
    "            md = min(md, dist(s[i], s[j]))\n",
    "    \n",
    "    return md\n",
    "# driver code\n",
    "p = [(2, 3), (12, 30), (40, 50), (5, 1), (12, 10), (3, 4)]\n",
    "print(cp(p))\n"
   ]
  },
  {
   "cell_type": "markdown",
   "metadata": {},
   "source": [
    "#### Problem 10: Matrix Chain Multiplication (Dynamic Programming)\n",
    "Given a sequence of matrices, find the most efficient way to multiply these matrices together. The order in which the matrices are multiplied affects the total number of scalar multiplications. The goal is to minimize this count.\n"
   ]
  },
  {
   "cell_type": "code",
   "execution_count": 1,
   "metadata": {},
   "outputs": [
    {
     "name": "stdout",
     "output_type": "stream",
     "text": [
      "26000\n"
     ]
    }
   ],
   "source": [
    "def mco(p): # matrix chain multiplication \n",
    "    n = len(p) - 1  \n",
    "    dp = [[0] * n for _ in range(n)] # form matrix of zero's  \n",
    "\n",
    "    for length in range(2, n + 1):  # length of chain\n",
    "        for i in range(n - length + 1):\n",
    "            j = i + length - 1\n",
    "            dp[i][j] = float('inf') # store value \n",
    "            for k in range(i, j):\n",
    "                cost = dp[i][k] + dp[k + 1][j] + p[i] * p[k + 1] * p[j + 1]\n",
    "                dp[i][j] = min(dp[i][j], cost)\n",
    "\n",
    "    return dp[0][n - 1]\n",
    "\n",
    "# driver code\n",
    "arr = [40, 20, 30, 10, 30]\n",
    "print(mco(arr))  \n"
   ]
  },
  {
   "cell_type": "markdown",
   "metadata": {},
   "source": [
    "#### Problem 11: Longest Common Subsequence (LCS)\n",
    "Given two strings X and Y, find the length of their longest common subsequence."
   ]
  },
  {
   "cell_type": "code",
   "execution_count": 1,
   "metadata": {},
   "outputs": [
    {
     "name": "stdout",
     "output_type": "stream",
     "text": [
      "4\n"
     ]
    }
   ],
   "source": [
    "def lcs(X, Y):\n",
    "    m, n = len(X), len(Y)\n",
    "    dp = [[0] * (n + 1) for _ in range(m + 1)]\n",
    "\n",
    "    for i in range(1, m + 1):\n",
    "        for j in range(1, n + 1):\n",
    "            if X[i - 1] == Y[j - 1]:\n",
    "                dp[i][j] = dp[i - 1][j - 1] + 1\n",
    "            else:\n",
    "                dp[i][j] = max(dp[i - 1][j], dp[i][j - 1])\n",
    "\n",
    "    return dp[m][n]\n",
    "\n",
    "# driver code\n",
    "X = \"AGGTAB\"\n",
    "Y = \"GXTXAYB\"\n",
    "print(lcs(X, Y))  \n"
   ]
  },
  {
   "cell_type": "markdown",
   "metadata": {},
   "source": [
    "#### Problem 12: Find the length of the longest increasing subsequence in an array."
   ]
  },
  {
   "cell_type": "code",
   "execution_count": 2,
   "metadata": {},
   "outputs": [
    {
     "name": "stdout",
     "output_type": "stream",
     "text": [
      "5\n"
     ]
    }
   ],
   "source": [
    "def lis(arr):\n",
    "    n = len(arr)\n",
    "    dp = [1] * n  \n",
    "\n",
    "    for i in range(1, n):\n",
    "        for j in range(i):\n",
    "            if arr[i] > arr[j]:\n",
    "                dp[i] = max(dp[i], dp[j] + 1)\n",
    "\n",
    "    return max(dp)\n",
    "\n",
    "# driver code\n",
    "arr = [10, 22, 9, 33, 21, 50, 41, 60]\n",
    "print(lis(arr))  \n"
   ]
  },
  {
   "cell_type": "markdown",
   "metadata": {},
   "source": [
    "#### Problem 13: Grid Traversal (Checking Neighbors) which contains only 1"
   ]
  },
  {
   "cell_type": "code",
   "execution_count": 1,
   "metadata": {},
   "outputs": [
    {
     "name": "stdout",
     "output_type": "stream",
     "text": [
      "2\n"
     ]
    }
   ],
   "source": [
    "def count_neighbors(grid, x, y):\n",
    "    rows, cols = len(grid), len(grid[0])\n",
    "    directions = [(-1, 0), (1, 0), (0, -1), (0, 1)]  # Up, Down, Left, Right\n",
    "    \n",
    "    count = 0\n",
    "    for dx, dy in directions:  # Check all 4 directions\n",
    "        nx, ny = x + dx, y + dy  # New positions\n",
    "        if 0 <= nx < rows and 0 <= ny < cols and grid[nx][ny] == 1:\n",
    "            count += 1  # Count valid neighbors\n",
    "    \n",
    "    return count\n",
    "\n",
    "grid = [\n",
    "    [0, 1, 0],\n",
    "    [1, 1, 0],\n",
    "    [0, 0, 1]\n",
    "]\n",
    "print(count_neighbors(grid, 1, 1))  # Output: 2\n",
    "\n"
   ]
  },
  {
   "cell_type": "markdown",
   "metadata": {},
   "source": [
    "#### Problem 14: 0/1 Knapsack Problem\n",
    "Given N items with weights and values, and a knapsack of capacity W, find the maximum value we can obtain."
   ]
  },
  {
   "cell_type": "code",
   "execution_count": 1,
   "metadata": {},
   "outputs": [
    {
     "name": "stdout",
     "output_type": "stream",
     "text": [
      "220\n"
     ]
    }
   ],
   "source": [
    "def knapsack(w,wl,v,t): # w = weight, wl = w list, v = val, t = val list\n",
    "    dp = [[0]* (w+1) for _ in range(t+1)]\n",
    "    for i in range(1, t+1):\n",
    "        for w in range(1, w+1):\n",
    "            if wl[i-1] <= w:\n",
    "                dp[i][w] = max(v[i - 1] + dp[i - 1][w - wl[i - 1]], dp[i - 1][w])\n",
    "            else:\n",
    "                dp[i][w] = dp[i - 1][w]\n",
    "    return dp[t][w]\n",
    "# driver code\n",
    "w = 50\n",
    "wl = [10, 20, 30]\n",
    "v = [60, 100, 120]\n",
    "t = len(v)\n",
    "print(knapsack(w, wl, v, t)) \n",
    "                \n",
    "    "
   ]
  },
  {
   "cell_type": "code",
   "execution_count": 2,
   "metadata": {},
   "outputs": [
    {
     "name": "stdout",
     "output_type": "stream",
     "text": [
      "220\n"
     ]
    }
   ],
   "source": [
    "# Another method\n",
    "def knapsack(wt, val, W, n, dp):\n",
    "    if n == 0 or W == 0:\n",
    "        return 0\n",
    "    if dp[n][W] != -1:\n",
    "        return dp[n][W]\n",
    "    if wt[n-1] <= W:\n",
    "        dp[n][W] = max(val[n-1] + knapsack(wt, val, W-wt[n-1], n-1, dp), knapsack(wt, val, W, n-1, dp))\n",
    "    else:\n",
    "        dp[n][W] = knapsack(wt, val, W, n-1, dp)\n",
    "    return dp[n][W]\n",
    "\n",
    "n = 3\n",
    "wt = [10, 20, 30]\n",
    "val = [60, 100, 120]\n",
    "W = 50\n",
    "dp = [[-1] * (W + 1) for _ in range(n + 1)]\n",
    "print(knapsack(wt, val, W, n, dp))  "
   ]
  },
  {
   "cell_type": "markdown",
   "metadata": {},
   "source": [
    "#### Problem 15: Edit Distance (Levenshtein Distance)\n",
    "Given two strings, compute the minimum number of operations to convert one into another."
   ]
  },
  {
   "cell_type": "code",
   "execution_count": 3,
   "metadata": {},
   "outputs": [
    {
     "name": "stdout",
     "output_type": "stream",
     "text": [
      "3\n"
     ]
    }
   ],
   "source": [
    "def edit_distance(s1, s2):\n",
    "    m, n = len(s1), len(s2)\n",
    "    dp = [[0] * (n + 1) for _ in range(m + 1)]\n",
    "\n",
    "    for i in range(m + 1):\n",
    "        for j in range(n + 1):\n",
    "            if i == 0:\n",
    "                dp[i][j] = j\n",
    "            elif j == 0:\n",
    "                dp[i][j] = i\n",
    "            elif s1[i - 1] == s2[j - 1]:\n",
    "                dp[i][j] = dp[i - 1][j - 1]\n",
    "            else:\n",
    "                dp[i][j] = 1 + min(dp[i - 1][j], dp[i][j - 1], dp[i - 1][j - 1])\n",
    "\n",
    "    return dp[m][n]\n",
    "\n",
    "# Driver code\n",
    "s1 = \"sunday\"\n",
    "s2 = \"saturday\"\n",
    "print(edit_distance(s1, s2)) \n"
   ]
  },
  {
   "cell_type": "markdown",
   "metadata": {},
   "source": [
    "#### Problem 16: Subset Sum Problem\n",
    "Check if a subset exists with a given sum."
   ]
  },
  {
   "cell_type": "code",
   "execution_count": 1,
   "metadata": {},
   "outputs": [
    {
     "name": "stdout",
     "output_type": "stream",
     "text": [
      "True\n"
     ]
    }
   ],
   "source": [
    "def subset(arr, target):\n",
    "    n = len(arr)\n",
    "    dp = [[False] * (target + 1) for _ in range(n + 1)]\n",
    "\n",
    "    for i in range(n + 1):\n",
    "        dp[i][0] = True  \n",
    "\n",
    "    for i in range(1, n + 1):\n",
    "        for j in range(1, target + 1):\n",
    "            if arr[i - 1] <= j:\n",
    "                dp[i][j] = dp[i - 1][j] or dp[i - 1][j - arr[i - 1]]\n",
    "            else:\n",
    "                dp[i][j] = dp[i - 1][j]\n",
    "\n",
    "    return dp[n][target]\n",
    "\n",
    "# Driver code\n",
    "arr = [3, 34, 4, 12, 5, 2]\n",
    "target = 9\n",
    "print(subset(arr, target))"
   ]
  },
  {
   "cell_type": "markdown",
   "metadata": {},
   "source": [
    "#### Problem 17: Rod Cutting Problem\n",
    "Find the maximum profit by cutting a rod of length N."
   ]
  },
  {
   "cell_type": "code",
   "execution_count": null,
   "metadata": {},
   "outputs": [],
   "source": [
    "def rod_cutting(prices, n):\n",
    "    dp = [0] * (n + 1)\n",
    "\n",
    "    for i in range(1, n + 1):\n",
    "        for j in range(i):\n",
    "            dp[i] = max(dp[i], prices[j] + dp[i - j - 1])\n",
    "\n",
    "    return dp[n]\n",
    "\n",
    "# Driver code\n",
    "prices = [1, 5, 8, 9, 10, 17, 17, 20]\n",
    "n = len(prices)\n",
    "print(rod_cutting(prices, n)) \n"
   ]
  },
  {
   "cell_type": "markdown",
   "metadata": {},
   "source": [
    "#### Problem 18: Coin Change Problem\n",
    "Find the number of ways to make an amount using given denominations."
   ]
  },
  {
   "cell_type": "code",
   "execution_count": 2,
   "metadata": {},
   "outputs": [
    {
     "name": "stdout",
     "output_type": "stream",
     "text": [
      "4\n"
     ]
    }
   ],
   "source": [
    "def coin_change(coins, amount):\n",
    "    dp = [0] * (amount + 1)\n",
    "    dp[0] = 1  \n",
    "\n",
    "    for i in coins:\n",
    "        for j in range(i, amount + 1):\n",
    "            dp[j] += dp[j - i]\n",
    "\n",
    "    return dp[amount]\n",
    "\n",
    "# driver code\n",
    "coins = [1, 2, 5]\n",
    "amount = 5\n",
    "print(coin_change(coins, amount))\n"
   ]
  },
  {
   "cell_type": "markdown",
   "metadata": {},
   "source": [
    "#### Problem 19: Fibonacci Sequence\n",
    "Compute the nth Fibonacci number using DP."
   ]
  },
  {
   "cell_type": "code",
   "execution_count": 3,
   "metadata": {},
   "outputs": [
    {
     "name": "stdout",
     "output_type": "stream",
     "text": [
      "55\n"
     ]
    }
   ],
   "source": [
    "def fibonacci(n):\n",
    "    dp = [0] * (n + 1)\n",
    "    dp[1] = 1\n",
    "\n",
    "    for i in range(2, n + 1):\n",
    "        dp[i] = dp[i - 1] + dp[i - 2]\n",
    "\n",
    "    return dp[n]\n",
    "\n",
    "# Driver code\n",
    "print(fibonacci(10))"
   ]
  },
  {
   "cell_type": "markdown",
   "metadata": {},
   "source": [
    "#### Problem 20: Palindromic Substrings\n",
    "Count the number of palindromic substrings in a string."
   ]
  },
  {
   "cell_type": "code",
   "execution_count": 1,
   "metadata": {},
   "outputs": [
    {
     "name": "stdout",
     "output_type": "stream",
     "text": [
      "6\n"
     ]
    }
   ],
   "source": [
    "def count_palindromic_substrings(s):\n",
    "    n = len(s)\n",
    "    dp = [[False] * n for _ in range(n)]\n",
    "    count = 0\n",
    "\n",
    "    for i in range(n):\n",
    "        dp[i][i] = True\n",
    "        count += 1\n",
    "\n",
    "    for length in range(2, n + 1):\n",
    "        for i in range(n - length + 1):\n",
    "            j = i + length - 1\n",
    "            if s[i] == s[j] and (j - i == 1 or dp[i + 1][j - 1]):\n",
    "                dp[i][j] = True\n",
    "                count += 1\n",
    "\n",
    "    return count\n",
    "\n",
    "# Driver code\n",
    "s = \"aaa\"\n",
    "print(count_palindromic_substrings(s))  \n"
   ]
  }
 ],
 "metadata": {
  "kernelspec": {
   "display_name": ".venv",
   "language": "python",
   "name": "python3"
  },
  "language_info": {
   "codemirror_mode": {
    "name": "ipython",
    "version": 3
   },
   "file_extension": ".py",
   "mimetype": "text/x-python",
   "name": "python",
   "nbconvert_exporter": "python",
   "pygments_lexer": "ipython3",
   "version": "3.12.3"
  }
 },
 "nbformat": 4,
 "nbformat_minor": 2
}
