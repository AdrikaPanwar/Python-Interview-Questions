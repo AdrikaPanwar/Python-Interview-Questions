{
 "cells": [
  {
   "cell_type": "markdown",
   "metadata": {},
   "source": [
    "#### **Ques 1:** Find Unique element in an arr\n",
    "Given an array where every number appears twice except one, find the unique number."
   ]
  },
  {
   "cell_type": "code",
   "execution_count": 2,
   "metadata": {},
   "outputs": [],
   "source": [
    "def uni(arr):\n",
    "    unique = 0\n",
    "    for i in arr:\n",
    "        unique ^= i\n",
    "    return unique"
   ]
  },
  {
   "cell_type": "markdown",
   "metadata": {},
   "source": [
    "#### **Ques 2:** Finding Two Unique Elements in an Array\n",
    "Every element appears twice except two distinct numbers. Find them."
   ]
  },
  {
   "cell_type": "code",
   "execution_count": 1,
   "metadata": {},
   "outputs": [],
   "source": [
    "def find(arr):\n",
    "    xor = 0\n",
    "    for num in arr:\n",
    "        xor ^= num\n",
    "    right = xor & -xor # is it a set\n",
    "    x=y=0\n",
    "    for num in arr:\n",
    "        if num & right:\n",
    "            x ^= num\n",
    "        else:\n",
    "            y ^= num\n",
    "    return x , y"
   ]
  },
  {
   "cell_type": "markdown",
   "metadata": {},
   "source": [
    "#### **Ques 3** Finding Unique Numbers in Different Cases"
   ]
  },
  {
   "cell_type": "code",
   "execution_count": 2,
   "metadata": {},
   "outputs": [],
   "source": [
    "def find( arr, k=0):\n",
    "    xor = 0\n",
    "    for num in arr:\n",
    "        xor ^= num\n",
    "    if k == 1:\n",
    "        return xor\n",
    "    right = xor & -xor\n",
    "    x=y=0\n",
    "    for num in arr:\n",
    "        if num & right:\n",
    "            x ^= num\n",
    "        else:\n",
    "            y ^= num\n",
    "    return (x,y) if k==2 else [x,y]"
   ]
  },
  {
   "cell_type": "markdown",
   "metadata": {},
   "source": [
    "#### **Ques 4** Finding Missing Number in an Array (1 to N)\n",
    "Given n-1 numbers from 1 to n, find the missing one."
   ]
  },
  {
   "cell_type": "code",
   "execution_count": 3,
   "metadata": {},
   "outputs": [],
   "source": [
    "def find(nums):\n",
    "    n = len(nums)+1\n",
    "    xor_all = 0\n",
    "    xor_nums = 0\n",
    "    for i in range(1, n+1):\n",
    "        xor_all ^= i\n",
    "    for num in nums:\n",
    "        xor_nums ^= num\n",
    "    return xor_all ^ xor_nums"
   ]
  },
  {
   "cell_type": "markdown",
   "metadata": {},
   "source": [
    "#### **Ques 5** Detecting if a Number is a Power of Two"
   ]
  },
  {
   "cell_type": "code",
   "execution_count": 4,
   "metadata": {},
   "outputs": [],
   "source": [
    "def power(n):\n",
    "    return n > 0 and (n&(n-1)) == 0 "
   ]
  },
  {
   "cell_type": "markdown",
   "metadata": {},
   "source": [
    "#### **Ques 6** XOR-Based Encryption & Decryption"
   ]
  },
  {
   "cell_type": "code",
   "execution_count": 5,
   "metadata": {},
   "outputs": [],
   "source": [
    "def xor(text, key):\n",
    "    return \" \".join(chr(ord(char)^key) for char in text)"
   ]
  }
 ],
 "metadata": {
  "kernelspec": {
   "display_name": ".venv",
   "language": "python",
   "name": "python3"
  },
  "language_info": {
   "codemirror_mode": {
    "name": "ipython",
    "version": 3
   },
   "file_extension": ".py",
   "mimetype": "text/x-python",
   "name": "python",
   "nbconvert_exporter": "python",
   "pygments_lexer": "ipython3",
   "version": "3.12.3"
  }
 },
 "nbformat": 4,
 "nbformat_minor": 2
}
