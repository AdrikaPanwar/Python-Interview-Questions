{
 "cells": [
  {
   "cell_type": "markdown",
   "metadata": {},
   "source": [
    "#### Question 1: Find the Maximum in a 2D Matrix\n",
    "\n",
    "Given a 2D matrix (list of lists) of integers, find and return the maximum element present in the matrix."
   ]
  },
  {
   "cell_type": "code",
   "execution_count": 1,
   "metadata": {},
   "outputs": [
    {
     "name": "stdout",
     "output_type": "stream",
     "text": [
      "15\n"
     ]
    }
   ],
   "source": [
    "def find_max_in_matrix(matrix):\n",
    "    if not matrix or not matrix[0]:\n",
    "        return None  # not matrix ==  handle empty matrix and not matrix[0] check if first matrix is empty or not \n",
    "    #if yes then it will not give us anything rather than error \n",
    "    \n",
    "    max_element = float('-inf')\n",
    "    \n",
    "    for row in matrix:\n",
    "        for element in row:\n",
    "            max_element = max(max_element, element)\n",
    "    \n",
    "    return max_element\n",
    "\n",
    "# driver code\n",
    "matrix = [\n",
    "    [3, 8, 2],\n",
    "    [10, 6, 7],\n",
    "    [1, 15, 4]\n",
    "]\n",
    "\n",
    "print(find_max_in_matrix(matrix)) \n"
   ]
  },
  {
   "cell_type": "markdown",
   "metadata": {},
   "source": [
    "#### Question 2: Search a target in the matrix"
   ]
  },
  {
   "cell_type": "code",
   "execution_count": 2,
   "metadata": {},
   "outputs": [],
   "source": [
    "# Method one == binary search O(log(m*n))\n",
    "def search(matrix, target):\n",
    "    if not matrix or not matrix[0]:\n",
    "        return False\n",
    "    \n",
    "    m,n = len(matrix), len(matrix[0]) # m = row, n = column\n",
    "    left, right = 0, m*n-1 # m*n makes the 1D array of matrix\n",
    "    \n",
    "    while left <= right:\n",
    "        mid = left + (right-left) // 2 \n",
    "        mid_val = matrix[mid//n][mid%n] # convert index to row and column\n",
    "        \n",
    "        if mid_val == target:\n",
    "            return True\n",
    "        elif mid_val < target:\n",
    "            left = mid+1\n",
    "        else:\n",
    "            right = mid-1\n",
    "            \n",
    "    return False"
   ]
  },
  {
   "cell_type": "code",
   "execution_count": 3,
   "metadata": {},
   "outputs": [],
   "source": [
    "# Method two == Efficient search O(m+n)\n",
    "def search(matrix, target):\n",
    "    if not matrix or not matrix[0]:\n",
    "        return False\n",
    "    m,n = len(matrix), len(matrix[0])\n",
    "    l, r = 0, n-1\n",
    "    \n",
    "    while l < m and r >= 0:\n",
    "        if matrix[l][r] == target:\n",
    "            return True\n",
    "        elif matrix[l][r] > target:\n",
    "            r -= 1\n",
    "        else:\n",
    "            l += 1 \n",
    "            \n",
    "    return False"
   ]
  },
  {
   "cell_type": "markdown",
   "metadata": {},
   "source": [
    "#### Question 3: Rotate Image 90 degree clockwise"
   ]
  },
  {
   "cell_type": "code",
   "execution_count": null,
   "metadata": {},
   "outputs": [],
   "source": [
    "# Transpose + Reverse approach O(n^2)\n",
    "def rotate(matrix: list[list[int]]) -> None:\n",
    "    n = len(matrix)\n",
    "    for i in range(n):\n",
    "        for j in range(i + 1, n):\n",
    "            matrix[i][j], matrix[j][i] = matrix[j][i], matrix[i][j]\n",
    "    for row in matrix: # didi, ye row wise reverse hota hai --- and rows are moving left to right -- don't confuse\n",
    "        row.reverse()\n"
   ]
  },
  {
   "cell_type": "markdown",
   "metadata": {},
   "source": [
    "#### Question 4: Spiral Matrix"
   ]
  },
  {
   "cell_type": "code",
   "execution_count": 2,
   "metadata": {},
   "outputs": [],
   "source": [
    "# Use boundaries and direction change O(m*n)\n",
    "def spiralOrder(matrix: list[list[int]]) -> list[int]:\n",
    "    if not matrix or not matrix[0]:  \n",
    "        return []\n",
    "\n",
    "    res = []\n",
    "    left, right, top, bottom = 0, len(matrix[0]) - 1, 0, len(matrix) - 1\n",
    "\n",
    "    while left <= right and top <= bottom:\n",
    "        # Move right\n",
    "        for i in range(left, right + 1):\n",
    "            res.append(matrix[top][i])\n",
    "        top += 1  # Move top boundary down\n",
    "\n",
    "        # Move down\n",
    "        for i in range(top, bottom + 1):\n",
    "            res.append(matrix[i][right])\n",
    "        right -= 1  # Move right boundary left\n",
    "\n",
    "        # Move left\n",
    "        if top <= bottom:\n",
    "            for i in range(right, left - 1, -1):\n",
    "                res.append(matrix[bottom][i])\n",
    "            bottom -= 1  # Move bottom boundary up\n",
    "\n",
    "        # Move up\n",
    "        if left <= right:\n",
    "            for i in range(bottom, top - 1, -1):\n",
    "                res.append(matrix[i][left])\n",
    "            left += 1  # Move left boundary right\n",
    "\n",
    "    return res\n",
    "\n"
   ]
  },
  {
   "cell_type": "markdown",
   "metadata": {},
   "source": [
    "#### Question 4: Game of Life"
   ]
  },
  {
   "cell_type": "code",
   "execution_count": 2,
   "metadata": {},
   "outputs": [],
   "source": [
    "# Use in place-state change O(m*n)\n",
    "def game(board):\n",
    "    rows, cols = len(board), len(board[0])\n",
    "    def count_live(r,c):\n",
    "        direc = [(-1,-1), (-1,0), (-1,1), (0,-1), (0,1), (1,-1), (1,0), (1,1)]\n",
    "        count = 0 \n",
    "        for dr, dc in direc:\n",
    "            nr, nc = r+dr, c+dc\n",
    "            if 0<= nr<rows and 0 <=nc<cols and abs(board[nr][nc]) == 1:\n",
    "                count += 1 \n",
    "        return count\n",
    "    \n",
    "    for r in range(rows):\n",
    "        for c in range(cols):\n",
    "            live_neigh = count_live(r,c)\n",
    "            if board[r][c] == 1 and (live_neigh < 2 or live_neigh >3):\n",
    "                board[r][c] = -1\n",
    "            if board[r][c] == 0 and live_neigh == 3:\n",
    "                board[r][c] = 2 \n",
    "    for r in range(rows):\n",
    "        for c in range(cols):\n",
    "            if board[r][c] == -1:\n",
    "                board[r][c] = 0\n",
    "            if board[r][c] == 2:\n",
    "                board[r][c] = 1\n",
    "                \n",
    "                "
   ]
  },
  {
   "cell_type": "markdown",
   "metadata": {},
   "source": [
    "#### Question 5: 3D matrix Number of Islands( DFS in 3D Space )\n",
    "Given a 3D grid (M × N × P) where 1 represents land and 0 represents water, count the number of isolated islands."
   ]
  },
  {
   "cell_type": "code",
   "execution_count": 3,
   "metadata": {},
   "outputs": [],
   "source": [
    "# O(m*n*p)\n",
    "def numland(grid):\n",
    "    if not grid:\n",
    "        return 0\n",
    "    m,n,p = len(grid), len(grid[0]), len(grid[0][0])\n",
    "    direc = [(1,0,0), (-1,0,0), (0,1,0), (0,-1,0), (0,0,1), (0,0,-1)]\n",
    "    visited = set()\n",
    "    \n",
    "    def dfs(x,y,z):\n",
    "        if(x,y,z) in visited or grid[x][y][z] == 0:\n",
    "            return\n",
    "        visited.add((x,y,z))\n",
    "        for dx,dy,dz in direc:\n",
    "            nx,ny,nz = x+dx, y+dy, z+dz\n",
    "            if 0 <= nx < m and 0 <= ny < n and 0 <= nz < p:\n",
    "                dfs(nx,ny,nz)\n",
    "    count = 0\n",
    "    for i in range(m):\n",
    "        for j in range(n):\n",
    "            for k in range(p):\n",
    "                if grid[i][j][k] == 1 and (i,j,k) not in visited:\n",
    "                    dfs(i,j,k)\n",
    "                    count += 1 \n",
    "    return count\n"
   ]
  },
  {
   "cell_type": "markdown",
   "metadata": {},
   "source": [
    "#### Queston 6: 3d matrix Rotting oranges (BFS in 3d space)\n",
    "Given a 3D grid where:\n",
    "\n",
    "1 → Fresh orange, \n",
    "2 → Rotten orange, \n",
    "0 → Empty space,\n",
    "Find the minimum time required for all oranges to rot"
   ]
  },
  {
   "cell_type": "code",
   "execution_count": 2,
   "metadata": {},
   "outputs": [],
   "source": [
    "# complexity O(m*n*p)\n",
    "from collections import deque\n",
    "def rotten(grid):\n",
    "    if not grid:\n",
    "        return -1\n",
    "    m,n,p = len(grid), len(grid[0]), len(grid[0][0])\n",
    "    queue = deque() \n",
    "    count = 0 \n",
    "    direc = [(1,0,0),(-1,0,0),(0,1,0),(0,-1,0),(0,0,1),(0,0,-1)]\n",
    "    for i in range(m):\n",
    "        for j in range(n):\n",
    "            for k in range(p):\n",
    "                if grid[i][j][k] == 2:\n",
    "                    queue.append((i,j,k,0)) # here zero means time to initially rotten starting point \n",
    "                elif grid[i][j][k] == 1:\n",
    "                    count += 1 \n",
    "    if count == 0:\n",
    "        return 0 # if there is no fresh orange than return 0 \n",
    "    \n",
    "    time = 0 \n",
    "    while queue:\n",
    "        x,y,z,t = queue.popleft()\n",
    "        time = max(time, t)\n",
    "        for dx,dy,dz in direc:\n",
    "            nx,ny,nz = x+dx, y+dy, z+dz\n",
    "            if 0 <= nx < m and 0 <= ny < n and 0 <= nz < p and grid[nx][ny][nz] == 1:\n",
    "                grid[nx][ny][nz] == 2\n",
    "                count -= 1 \n",
    "                queue.append((nx,ny,nz, t + 1))\n",
    "    return time if count == 0 else -1\n",
    "                    "
   ]
  },
  {
   "cell_type": "markdown",
   "metadata": {},
   "source": [
    "#### Question 7: 4D matrix-Flood Fill(DFS in 4D Space) -- flood fill algorithm \n",
    "Basically here in this question there is color fill to the adjacent cell like pixel (image processing)"
   ]
  },
  {
   "cell_type": "code",
   "execution_count": 3,
   "metadata": {},
   "outputs": [],
   "source": [
    "# complexity == o(m*n*p*q)\n",
    "def fill(grid: list[list[list[list[int]]]], x: int, y:int, z:int, w:int, newcolor:int) -> None:\n",
    "    if not grid:\n",
    "        return\n",
    "    m,n,p,q = len(grid), len(grid[0]), len(grid[0][0]), len(grid[0][0][0])\n",
    "    real_color = grid[x][y][z][w]\n",
    "    if real_color == newcolor:\n",
    "        return\n",
    "    direc = [(1,0,0,0), (-1,0,0,0), (0,1,0,0), (0,-1,0,0), (0,0,1,0), (0,0,-1,0), (0,0,0,1), (0,0,0,-1)]\n",
    "    def dfs(a,b,c,d):\n",
    "        if not (0 <= m < a and 0 <= n < b and 0 <= p < 0 and 0 <= q < 0):\n",
    "            return\n",
    "        if grid[a][b][c][d] != real_color:\n",
    "            return\n",
    "        grid[a][b][c][d] = newcolor\n",
    "        for da, db, dc, dd in direc:\n",
    "            dfs(a+da, b+db, c+dc, d+dd)\n",
    "    dfs(x,y,z,w)\n",
    "        "
   ]
  },
  {
   "cell_type": "markdown",
   "metadata": {},
   "source": [
    "#### Question 8: Finding Connected components (4D-DFS)\n"
   ]
  },
  {
   "cell_type": "code",
   "execution_count": 2,
   "metadata": {},
   "outputs": [],
   "source": [
    "# Complexity = (m*n*p*q)\n",
    "def countcluster(grid: list[list[list[list[int]]]]):\n",
    "    if not grid:\n",
    "        return\n",
    "    m,n,p,q = len(grid), len(grid[0]), len(grid[0][0]), len(grid[0][0][0])\n",
    "    direc = [(1,0,0,0), (-1,0,0,0), (0,1,0,0), (0,-1,0,0), (0,0,1,0), (0,0,-1,0), (0,0,0,1), (0,0,0,-1)]\n",
    "    visited = set()\n",
    "    def dfs(a,b,c,d):\n",
    "        if (a,b,c,d) in visited or grid[a][b][c][d] == 0:\n",
    "            return\n",
    "        visited.add(a,b,c,d)\n",
    "        for da, db, dc, dd in direc:\n",
    "            na, nb,nc,nd = a+da, b+db, c+dc, d+dd\n",
    "            if 0<= na < m and 0<= nb < n and 0 <= nc < n and 0 <= nd < 0:\n",
    "                dfs(na,nb,nc,nd)\n",
    "                 \n",
    "    count = 0 \n",
    "    for i in range(m):\n",
    "        for j in range(n):\n",
    "            for k in range(p):\n",
    "                for l in range(q):\n",
    "                    if (i,j,k,l) not in visited and grid[i][j][k][l] == 0:\n",
    "                        dfs(i,j,k,l)\n",
    "                        count += 1 \n",
    "    return count"
   ]
  },
  {
   "cell_type": "markdown",
   "metadata": {},
   "source": [
    "#### Question 9: Minimum Path Sum (2D Grid)\n",
    "The problem \"Minimum Path Sum\" asks us to find the path from the top-left to the bottom-right of a grid (2D list of integers), such that the sum of all numbers along the path is minimum."
   ]
  },
  {
   "cell_type": "code",
   "execution_count": null,
   "metadata": {},
   "outputs": [],
   "source": [
    "# complexity = O(m*n), used only for top to bottom state \n",
    "def minpath(grid: list[list[int]]) -> int:\n",
    "    m,n = len(grid), len(grid[0])\n",
    "    dp = [[0]*n for _ in range(m)]\n",
    "    dp[0][0] = grid[0][0]\n",
    "    # first col(down move)\n",
    "    for i in range(1,n):\n",
    "        dp[i][0] = dp[i-1][0] + grid[i][0]\n",
    "    # first row(right move)\n",
    "    for j in range(1,m):\n",
    "        dp[0][j] = dp[0][j-1] + grid[0][j]\n",
    "    # rest grid\n",
    "    for i in range(1,n):\n",
    "        for j in range(1,m):\n",
    "            dp[i][j] = grid[i][j] + min(dp[i-1][j], dp[i][j-1])\n",
    "    return dp[-1][-1]\n",
    "    "
   ]
  },
  {
   "cell_type": "markdown",
   "metadata": {},
   "source": [
    "#### Question 10: Minimum Path Sum(3D grid) \n",
    "find the minimum sum path from (0,0,0) to (m-1, n-1, p-1), moving right, down, or forward."
   ]
  },
  {
   "cell_type": "code",
   "execution_count": null,
   "metadata": {},
   "outputs": [],
   "source": [
    "#  used for multiple state dear, complexity = O(m*n*p)\n",
    "def min(grid: list[list[list[int]]]) -> int:\n",
    "    m,n,p = len(grid), len(grid[0]), len(grid[0][0])\n",
    "    dp =[[[float('inf')]* p for _ in range(n)] for _ in range(m)]\n",
    "    dp[0][0][0] = grid[0][0][0]\n",
    "    for i in range(m):\n",
    "        for j in range(n):\n",
    "            for k in range(p):\n",
    "                if i > 0:\n",
    "                    dp[i][j][k] = min(dp[i][j][k], dp[i-1][j][k] + grid[i][j][k])\n",
    "                if j > 0: \n",
    "                    dp[i][j][k] = min(dp[i][j][k], dp[i][j-1][k] + grid[i][j][k])\n",
    "                if k > 0:\n",
    "                    dp[i][j][k] = min(dp[i][j][k], dp[i][j][k-1] + grid[i][j][k])\n",
    "    return dp[-1][-1][-1]"
   ]
  },
  {
   "cell_type": "markdown",
   "metadata": {},
   "source": [
    "#### Question 11: Minimum Path Sum(4D grid)\n",
    "fin the minimum path sum in a 4d matrix from (0,0,0,0) to (m-1, n-1, p-1, q-1), moving right, down, forward, or in the 4th dimension."
   ]
  },
  {
   "cell_type": "code",
   "execution_count": null,
   "metadata": {},
   "outputs": [],
   "source": [
    "# complexity = O(m*n*p*q)\n",
    "def min(grid: list[list[list[list[int]]]]) -> int:\n",
    "    m,n,p,q = len(grid), len(grid[0]), len(grid[0][0]), len(grid[0][0][0])\n",
    "    dp = [[[[float('inf')] * q for _ in range(p)] for _ in range(n)] for _ in range(m)]\n",
    "    dp[0][0][0][0] = grid[0][0][0][0]\n",
    "    \n",
    "    for i in range(m):\n",
    "        for j in range(n):\n",
    "            for k in range(p):\n",
    "                for l in range(q):\n",
    "                    if i > 0:\n",
    "                        dp[i][j][k][l] = min(dp[i][j][k][l], dp[i-1][j][k][l] + grid[i][j][k][l])\n",
    "                    if j > 0:\n",
    "                        dp[i][j][k][l] = min(dp[i][j][k][l], dp[i][j-1][k][l] + grid[i][j][k][l])\n",
    "                    if k > 0:\n",
    "                        dp[i][j][k][l] = min(dp[i][j][k][l], dp[i][j][k-1][l] + grid[i][j][k][l])\n",
    "                    if l > 0:\n",
    "                        dp[i][j][k][l] = min(dp[i][j][k][l], dp[i][j][k][l-1] + grid[i][j][k][l])\n",
    "    return [-1][-1][-1][-1]\n",
    "    \n",
    "    "
   ]
  },
  {
   "cell_type": "markdown",
   "metadata": {},
   "source": [
    "#### Question 12:  0/1 Knapsack with an Additional Constraint\n",
    "You are given n items, each with weight, value, and an extra constraint (like volume). You have a max weight and a max volume capacity. Find the maximum value you can obtain."
   ]
  },
  {
   "cell_type": "code",
   "execution_count": null,
   "metadata": {},
   "outputs": [],
   "source": [
    "# complexity = O (n* max_weights * max_volume)\n",
    "def knapsack( weights, values, volumes, max_weight, max_volume): # values iteration me ayegi \n",
    "    n = len(weights)\n",
    "    dp = [[[0]* (max_volume +1) for _ in range(max_weight+1)] for _ in range(n+1)]\n",
    "    for i in range(1, n+1): # n denote number of weights total kitni length ha jo apne ap values or volume se incline ho jati\n",
    "        for w in range(max_weight+1):\n",
    "            for v in range(max_volume+1):\n",
    "                dp[i][w][v] = dp[i-1][w][v]\n",
    "                if w >= weights[i-1] and v >= volumes[i-1]:\n",
    "                    dp[i][w][v] = max(dp[i][w][v], values[i-1] + dp[i-1][w - weights[i-1]][v - volumes[i-1]])\n",
    "    return dp[n][max_weight][max_volume]                                "
   ]
  },
  {
   "cell_type": "markdown",
   "metadata": {},
   "source": [
    "#### Question 13: Multi-Constrained Knapsack\n",
    "You are given n items, each with weight, value, volume, and temperature limit. You have a max weight, max volume, and a max temperature capacity. Find the maximum value you can obtain."
   ]
  },
  {
   "cell_type": "code",
   "execution_count": 3,
   "metadata": {},
   "outputs": [],
   "source": [
    "def knapsack(weights, values, volumes, temperatures, max_weight, max_volume, max_temp):\n",
    "    n = len(weights)\n",
    "    dp = [[[[0] * (max_temp + 1) for _ in range(max_volume + 1)] for _ in range(max_weight + 1)] for _ in range(n + 1)]\n",
    "\n",
    "    for i in range(1, n + 1):\n",
    "        for w in range(max_weight + 1):\n",
    "            for v in range(max_volume + 1):\n",
    "                for t in range(max_temp + 1):\n",
    "                    dp[i][w][v][t] = dp[i - 1][w][v][t]\n",
    "                    if w >= weights[i - 1] and v >= volumes[i - 1] and t >= temperatures[i - 1]:\n",
    "                        dp[i][w][v][t] = max(\n",
    "                            dp[i][w][v][t],\n",
    "                            values[i - 1] + dp[i - 1][w - weights[i - 1]][v - volumes[i - 1]][t - temperatures[i - 1]]\n",
    "                        )\n",
    "    return dp[n][max_weight][max_volume][max_temp]\n"
   ]
  }
 ],
 "metadata": {
  "kernelspec": {
   "display_name": ".venv",
   "language": "python",
   "name": "python3"
  },
  "language_info": {
   "codemirror_mode": {
    "name": "ipython",
    "version": 3
   },
   "file_extension": ".py",
   "mimetype": "text/x-python",
   "name": "python",
   "nbconvert_exporter": "python",
   "pygments_lexer": "ipython3",
   "version": "3.12.3"
  }
 },
 "nbformat": 4,
 "nbformat_minor": 2
}
